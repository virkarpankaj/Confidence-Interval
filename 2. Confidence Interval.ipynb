{
 "cells": [
  {
   "cell_type": "code",
   "execution_count": 1,
   "id": "43bc03b3",
   "metadata": {},
   "outputs": [],
   "source": [
    "import pandas as pd\n",
    "import numpy as np\n",
    "\n",
    "from scipy import stats"
   ]
  },
  {
   "cell_type": "code",
   "execution_count": 10,
   "id": "57719a34",
   "metadata": {},
   "outputs": [],
   "source": [
    "beml = pd.read_csv('beml_df.csv')\n",
    "glaxo = pd.read_csv('glaxo_df.csv')"
   ]
  },
  {
   "cell_type": "code",
   "execution_count": 3,
   "id": "4401ad10",
   "metadata": {},
   "outputs": [
    {
     "data": {
      "text/html": [
       "<div>\n",
       "<style scoped>\n",
       "    .dataframe tbody tr th:only-of-type {\n",
       "        vertical-align: middle;\n",
       "    }\n",
       "\n",
       "    .dataframe tbody tr th {\n",
       "        vertical-align: top;\n",
       "    }\n",
       "\n",
       "    .dataframe thead th {\n",
       "        text-align: right;\n",
       "    }\n",
       "</style>\n",
       "<table border=\"1\" class=\"dataframe\">\n",
       "  <thead>\n",
       "    <tr style=\"text-align: right;\">\n",
       "      <th></th>\n",
       "      <th>Date</th>\n",
       "      <th>Date.1</th>\n",
       "      <th>Close</th>\n",
       "      <th>gain</th>\n",
       "    </tr>\n",
       "  </thead>\n",
       "  <tbody>\n",
       "    <tr>\n",
       "      <th>0</th>\n",
       "      <td>2010-01-05</td>\n",
       "      <td>2010-01-05</td>\n",
       "      <td>1134.60</td>\n",
       "      <td>-0.000881</td>\n",
       "    </tr>\n",
       "    <tr>\n",
       "      <th>1</th>\n",
       "      <td>2010-01-06</td>\n",
       "      <td>2010-01-06</td>\n",
       "      <td>1139.60</td>\n",
       "      <td>0.004407</td>\n",
       "    </tr>\n",
       "    <tr>\n",
       "      <th>2</th>\n",
       "      <td>2010-01-07</td>\n",
       "      <td>2010-01-07</td>\n",
       "      <td>1144.15</td>\n",
       "      <td>0.003993</td>\n",
       "    </tr>\n",
       "    <tr>\n",
       "      <th>3</th>\n",
       "      <td>2010-01-08</td>\n",
       "      <td>2010-01-08</td>\n",
       "      <td>1144.05</td>\n",
       "      <td>-0.000087</td>\n",
       "    </tr>\n",
       "    <tr>\n",
       "      <th>4</th>\n",
       "      <td>2010-01-11</td>\n",
       "      <td>2010-01-11</td>\n",
       "      <td>1137.00</td>\n",
       "      <td>-0.006162</td>\n",
       "    </tr>\n",
       "  </tbody>\n",
       "</table>\n",
       "</div>"
      ],
      "text/plain": [
       "         Date      Date.1    Close      gain\n",
       "0  2010-01-05  2010-01-05  1134.60 -0.000881\n",
       "1  2010-01-06  2010-01-06  1139.60  0.004407\n",
       "2  2010-01-07  2010-01-07  1144.15  0.003993\n",
       "3  2010-01-08  2010-01-08  1144.05 -0.000087\n",
       "4  2010-01-11  2010-01-11  1137.00 -0.006162"
      ]
     },
     "execution_count": 3,
     "metadata": {},
     "output_type": "execute_result"
    }
   ],
   "source": [
    "beml.head()"
   ]
  },
  {
   "cell_type": "code",
   "execution_count": 11,
   "id": "75628a71",
   "metadata": {},
   "outputs": [],
   "source": [
    "beml.drop('Date.1',axis=1,inplace=True)"
   ]
  },
  {
   "cell_type": "code",
   "execution_count": 12,
   "id": "10c55936",
   "metadata": {},
   "outputs": [],
   "source": [
    "glaxo.drop('Date.1',axis=1,inplace=True)"
   ]
  },
  {
   "cell_type": "code",
   "execution_count": 13,
   "id": "a700bed6",
   "metadata": {},
   "outputs": [
    {
     "data": {
      "text/html": [
       "<div>\n",
       "<style scoped>\n",
       "    .dataframe tbody tr th:only-of-type {\n",
       "        vertical-align: middle;\n",
       "    }\n",
       "\n",
       "    .dataframe tbody tr th {\n",
       "        vertical-align: top;\n",
       "    }\n",
       "\n",
       "    .dataframe thead th {\n",
       "        text-align: right;\n",
       "    }\n",
       "</style>\n",
       "<table border=\"1\" class=\"dataframe\">\n",
       "  <thead>\n",
       "    <tr style=\"text-align: right;\">\n",
       "      <th></th>\n",
       "      <th>Date</th>\n",
       "      <th>Close</th>\n",
       "      <th>gain</th>\n",
       "    </tr>\n",
       "  </thead>\n",
       "  <tbody>\n",
       "    <tr>\n",
       "      <th>0</th>\n",
       "      <td>2010-01-05</td>\n",
       "      <td>1134.60</td>\n",
       "      <td>-0.000881</td>\n",
       "    </tr>\n",
       "    <tr>\n",
       "      <th>1</th>\n",
       "      <td>2010-01-06</td>\n",
       "      <td>1139.60</td>\n",
       "      <td>0.004407</td>\n",
       "    </tr>\n",
       "    <tr>\n",
       "      <th>2</th>\n",
       "      <td>2010-01-07</td>\n",
       "      <td>1144.15</td>\n",
       "      <td>0.003993</td>\n",
       "    </tr>\n",
       "    <tr>\n",
       "      <th>3</th>\n",
       "      <td>2010-01-08</td>\n",
       "      <td>1144.05</td>\n",
       "      <td>-0.000087</td>\n",
       "    </tr>\n",
       "    <tr>\n",
       "      <th>4</th>\n",
       "      <td>2010-01-11</td>\n",
       "      <td>1137.00</td>\n",
       "      <td>-0.006162</td>\n",
       "    </tr>\n",
       "  </tbody>\n",
       "</table>\n",
       "</div>"
      ],
      "text/plain": [
       "         Date    Close      gain\n",
       "0  2010-01-05  1134.60 -0.000881\n",
       "1  2010-01-06  1139.60  0.004407\n",
       "2  2010-01-07  1144.15  0.003993\n",
       "3  2010-01-08  1144.05 -0.000087\n",
       "4  2010-01-11  1137.00 -0.006162"
      ]
     },
     "execution_count": 13,
     "metadata": {},
     "output_type": "execute_result"
    }
   ],
   "source": [
    "beml.head()"
   ]
  },
  {
   "cell_type": "code",
   "execution_count": 14,
   "id": "272e5f57",
   "metadata": {},
   "outputs": [
    {
     "data": {
      "text/html": [
       "<div>\n",
       "<style scoped>\n",
       "    .dataframe tbody tr th:only-of-type {\n",
       "        vertical-align: middle;\n",
       "    }\n",
       "\n",
       "    .dataframe tbody tr th {\n",
       "        vertical-align: top;\n",
       "    }\n",
       "\n",
       "    .dataframe thead th {\n",
       "        text-align: right;\n",
       "    }\n",
       "</style>\n",
       "<table border=\"1\" class=\"dataframe\">\n",
       "  <thead>\n",
       "    <tr style=\"text-align: right;\">\n",
       "      <th></th>\n",
       "      <th>Date</th>\n",
       "      <th>Close</th>\n",
       "      <th>gain</th>\n",
       "    </tr>\n",
       "  </thead>\n",
       "  <tbody>\n",
       "    <tr>\n",
       "      <th>0</th>\n",
       "      <td>2010-01-05</td>\n",
       "      <td>1616.80</td>\n",
       "      <td>-0.005444</td>\n",
       "    </tr>\n",
       "    <tr>\n",
       "      <th>1</th>\n",
       "      <td>2010-01-06</td>\n",
       "      <td>1638.50</td>\n",
       "      <td>0.013422</td>\n",
       "    </tr>\n",
       "    <tr>\n",
       "      <th>2</th>\n",
       "      <td>2010-01-07</td>\n",
       "      <td>1648.70</td>\n",
       "      <td>0.006225</td>\n",
       "    </tr>\n",
       "    <tr>\n",
       "      <th>3</th>\n",
       "      <td>2010-01-08</td>\n",
       "      <td>1639.80</td>\n",
       "      <td>-0.005398</td>\n",
       "    </tr>\n",
       "    <tr>\n",
       "      <th>4</th>\n",
       "      <td>2010-01-11</td>\n",
       "      <td>1629.45</td>\n",
       "      <td>-0.006312</td>\n",
       "    </tr>\n",
       "  </tbody>\n",
       "</table>\n",
       "</div>"
      ],
      "text/plain": [
       "         Date    Close      gain\n",
       "0  2010-01-05  1616.80 -0.005444\n",
       "1  2010-01-06  1638.50  0.013422\n",
       "2  2010-01-07  1648.70  0.006225\n",
       "3  2010-01-08  1639.80 -0.005398\n",
       "4  2010-01-11  1629.45 -0.006312"
      ]
     },
     "execution_count": 14,
     "metadata": {},
     "output_type": "execute_result"
    }
   ],
   "source": [
    "glaxo.head()"
   ]
  },
  {
   "cell_type": "code",
   "execution_count": null,
   "id": "735c7149",
   "metadata": {},
   "outputs": [],
   "source": []
  },
  {
   "cell_type": "markdown",
   "id": "4e1392d8",
   "metadata": {},
   "source": [
    "## CI - Normal Distribution\n",
    "\n",
    "* stats.norm.interval(CI,loc=mean,scale=std dev)"
   ]
  },
  {
   "cell_type": "code",
   "execution_count": 18,
   "id": "04d83f65",
   "metadata": {},
   "outputs": [
    {
     "name": "stdout",
     "output_type": "stream",
     "text": [
      "95% Confidence interval for BEML Gain  [-0.0515  0.0521]\n"
     ]
    }
   ],
   "source": [
    "# 95 % CI - BEML\n",
    "\n",
    "beml_ci = stats.norm.interval(0.95,beml['gain'].mean(),beml['gain'].std())\n",
    "\n",
    "print('95% Confidence interval for BEML Gain ',np.round((beml_ci),4))"
   ]
  },
  {
   "cell_type": "code",
   "execution_count": 23,
   "id": "8792d148",
   "metadata": {},
   "outputs": [
    {
     "name": "stdout",
     "output_type": "stream",
     "text": [
      "95% Confidence interval for Glaxo Gain [-0.0258  0.0266]\n"
     ]
    }
   ],
   "source": [
    "# 95% CI - GLAXO\n",
    "\n",
    "glaxo_ci = stats.norm.interval(0.95,glaxo['gain'].mean(),glaxo['gain'].std())\n",
    "\n",
    "print('95% Confidence interval for Glaxo Gain',np.round((glaxo_ci),4))"
   ]
  },
  {
   "cell_type": "code",
   "execution_count": null,
   "id": "9ca03a00",
   "metadata": {},
   "outputs": [],
   "source": [
    "# BEML HAS WIDER CI COMPARED TO GLAXO --- BEML HAS HIGHER VARIANCE"
   ]
  },
  {
   "cell_type": "code",
   "execution_count": null,
   "id": "e0034f90",
   "metadata": {},
   "outputs": [],
   "source": []
  },
  {
   "cell_type": "markdown",
   "id": "a57e10f2",
   "metadata": {},
   "source": [
    "## CI - T Distribution\n",
    "\n",
    "* stats.t.interval(CI,df,loc=mean,scale=std dev)"
   ]
  },
  {
   "cell_type": "code",
   "execution_count": 24,
   "id": "9cba2f78",
   "metadata": {},
   "outputs": [
    {
     "data": {
      "text/plain": [
       "(1738, 3)"
      ]
     },
     "execution_count": 24,
     "metadata": {},
     "output_type": "execute_result"
    }
   ],
   "source": [
    "beml.shape"
   ]
  },
  {
   "cell_type": "code",
   "execution_count": 25,
   "id": "bb9c4a53",
   "metadata": {},
   "outputs": [
    {
     "data": {
      "text/plain": [
       "(1738, 3)"
      ]
     },
     "execution_count": 25,
     "metadata": {},
     "output_type": "execute_result"
    }
   ],
   "source": [
    "glaxo.shape"
   ]
  },
  {
   "cell_type": "code",
   "execution_count": 26,
   "id": "08a1cebd",
   "metadata": {},
   "outputs": [
    {
     "name": "stdout",
     "output_type": "stream",
     "text": [
      "95% Confidence interval - T distribution for BEML Gain  [-0.0516  0.0521]\n"
     ]
    }
   ],
   "source": [
    "# 95 % CI - BEML\n",
    "\n",
    "beml_t_ci= stats.t.interval(0.95,1737,beml['gain'].mean(),beml['gain'].std())\n",
    "\n",
    "print('95% Confidence interval - T distribution for BEML Gain ',np.round((beml_t_ci),4))"
   ]
  },
  {
   "cell_type": "code",
   "execution_count": 27,
   "id": "458df5b2",
   "metadata": {},
   "outputs": [
    {
     "name": "stdout",
     "output_type": "stream",
     "text": [
      "95% Confidence interval - T distribution for BEML Gain  [-0.0258  0.0266]\n"
     ]
    }
   ],
   "source": [
    "# 95% CI - Glaxo\n",
    "\n",
    "glaxo_t_ci = stats.t.interval(0.95,1737,glaxo['gain'].mean(),glaxo['gain'].std())\n",
    "\n",
    "print('95% Confidence interval - T distribution for BEML Gain ',np.round((glaxo_t_ci),4))"
   ]
  },
  {
   "cell_type": "code",
   "execution_count": null,
   "id": "81d81a60",
   "metadata": {},
   "outputs": [],
   "source": []
  },
  {
   "cell_type": "markdown",
   "id": "d975858f",
   "metadata": {},
   "source": [
    "### General Practice for CI"
   ]
  },
  {
   "cell_type": "code",
   "execution_count": 28,
   "id": "0d116509",
   "metadata": {},
   "outputs": [
    {
     "data": {
      "text/plain": [
       "(6.2201080463798375, 17.97989195362016)"
      ]
     },
     "execution_count": 28,
     "metadata": {},
     "output_type": "execute_result"
    }
   ],
   "source": [
    "stats.norm.interval(0.95,12.1,3)"
   ]
  },
  {
   "cell_type": "code",
   "execution_count": 29,
   "id": "a7674c9c",
   "metadata": {},
   "outputs": [
    {
     "data": {
      "text/plain": [
       "(6.212982757520777, 17.987017242479222)"
      ]
     },
     "execution_count": 29,
     "metadata": {},
     "output_type": "execute_result"
    }
   ],
   "source": [
    "stats.t.interval(0.95,1000,12.1,3)"
   ]
  },
  {
   "cell_type": "code",
   "execution_count": 30,
   "id": "604e2e61",
   "metadata": {},
   "outputs": [],
   "source": [
    "# as sample size is large we get very close approximation of t to Std Normal"
   ]
  },
  {
   "cell_type": "code",
   "execution_count": 31,
   "id": "9c998f53",
   "metadata": {},
   "outputs": [],
   "source": [
    "x=[10,27,28,16,19,16,29,49,51,53]\n",
    "sigma=10\n",
    "\n",
    "x_mean=np.mean(x)"
   ]
  },
  {
   "cell_type": "code",
   "execution_count": 32,
   "id": "dc0b292c",
   "metadata": {},
   "outputs": [
    {
     "data": {
      "text/plain": [
       "(10.200360154599462, 49.39963984540054)"
      ]
     },
     "execution_count": 32,
     "metadata": {},
     "output_type": "execute_result"
    }
   ],
   "source": [
    "stats.norm.interval(0.95,x_mean,sigma)"
   ]
  },
  {
   "cell_type": "code",
   "execution_count": 33,
   "id": "838a4f96",
   "metadata": {},
   "outputs": [
    {
     "data": {
      "text/plain": [
       "(13.351463730485271, 46.24853626951472)"
      ]
     },
     "execution_count": 33,
     "metadata": {},
     "output_type": "execute_result"
    }
   ],
   "source": [
    "stats.norm.interval(0.90,x_mean,sigma)"
   ]
  },
  {
   "cell_type": "code",
   "execution_count": 34,
   "id": "7cf1e64f",
   "metadata": {},
   "outputs": [],
   "source": [
    "x=[10,27,28,16,19,16,29,49,51,53]\n",
    "x_std=np.std(x)\n",
    "x_mean=np.mean(x)"
   ]
  },
  {
   "cell_type": "code",
   "execution_count": 35,
   "id": "3145624e",
   "metadata": {},
   "outputs": [
    {
     "data": {
      "text/plain": [
       "(5.085561098892395, 54.514438901107596)"
      ]
     },
     "execution_count": 35,
     "metadata": {},
     "output_type": "execute_result"
    }
   ],
   "source": [
    "stats.norm.interval(0.9,x_mean,x_std)"
   ]
  },
  {
   "cell_type": "code",
   "execution_count": 36,
   "id": "c1c7bb38",
   "metadata": {},
   "outputs": [
    {
     "data": {
      "text/plain": [
       "(4.3243012307049895, 55.27569876929502)"
      ]
     },
     "execution_count": 36,
     "metadata": {},
     "output_type": "execute_result"
    }
   ],
   "source": [
    "stats.t.interval(0.9,31,x_mean,x_std)"
   ]
  },
  {
   "cell_type": "code",
   "execution_count": null,
   "id": "375dbdab",
   "metadata": {},
   "outputs": [],
   "source": []
  },
  {
   "cell_type": "code",
   "execution_count": null,
   "id": "762dc658",
   "metadata": {},
   "outputs": [],
   "source": []
  },
  {
   "cell_type": "code",
   "execution_count": null,
   "id": "c187e69b",
   "metadata": {},
   "outputs": [],
   "source": []
  },
  {
   "cell_type": "code",
   "execution_count": null,
   "id": "b8643632",
   "metadata": {},
   "outputs": [],
   "source": []
  },
  {
   "cell_type": "code",
   "execution_count": null,
   "id": "c4496b7a",
   "metadata": {},
   "outputs": [],
   "source": []
  }
 ],
 "metadata": {
  "kernelspec": {
   "display_name": "Python 3 (ipykernel)",
   "language": "python",
   "name": "python3"
  },
  "language_info": {
   "codemirror_mode": {
    "name": "ipython",
    "version": 3
   },
   "file_extension": ".py",
   "mimetype": "text/x-python",
   "name": "python",
   "nbconvert_exporter": "python",
   "pygments_lexer": "ipython3",
   "version": "3.9.7"
  },
  "varInspector": {
   "cols": {
    "lenName": 16,
    "lenType": 16,
    "lenVar": 40
   },
   "kernels_config": {
    "python": {
     "delete_cmd_postfix": "",
     "delete_cmd_prefix": "del ",
     "library": "var_list.py",
     "varRefreshCmd": "print(var_dic_list())"
    },
    "r": {
     "delete_cmd_postfix": ") ",
     "delete_cmd_prefix": "rm(",
     "library": "var_list.r",
     "varRefreshCmd": "cat(var_dic_list()) "
    }
   },
   "types_to_exclude": [
    "module",
    "function",
    "builtin_function_or_method",
    "instance",
    "_Feature"
   ],
   "window_display": false
  }
 },
 "nbformat": 4,
 "nbformat_minor": 5
}
